{
  "nbformat": 4,
  "nbformat_minor": 0,
  "metadata": {
    "colab": {
      "name": "Exercise2-Question.ipynb",
      "version": "0.3.2",
      "provenance": [],
      "collapsed_sections": []
    },
    "kernelspec": {
      "name": "python3",
      "display_name": "Python 3"
    }
  },
  "cells": [
    {
      "cell_type": "markdown",
      "metadata": {
        "id": "tOoyQ70H00_s",
        "colab_type": "text"
      },
      "source": [
        "## Exercise 2\n",
        "In the course you learned how to do classification using Fashion MNIST, a data set containing items of clothing. There's another, similar dataset called MNIST which has items of handwriting -- the digits 0 through 9.\n",
        "\n",
        "Write an MNIST classifier that trains to 99% accuracy or above, and does it without a fixed number of epochs -- i.e. you should stop training once you reach that level of accuracy.\n",
        "\n",
        "Some notes:\n",
        "1. It should succeed in less than 10 epochs, so it is okay to change epochs to 10, but nothing larger\n",
        "2. When it reaches 99% or greater it should print out the string \"Reached 99% accuracy so cancelling training!\"\n",
        "3. If you add any additional variables, make sure you use the same names as the ones used in the class\n",
        "\n",
        "I've started the code for you below -- how would you finish it? "
      ]
    },
    {
      "cell_type": "code",
      "metadata": {
        "id": "9rvXQGAA0ssC",
        "colab_type": "code",
        "colab": {
          "base_uri": "https://localhost:8080/",
          "height": 250
        },
        "outputId": "a984b42a-5e79-4ca0-a54a-53c0f1dd1ddb"
      },
      "source": [
        "# IMPORT TENSORFLOW\n",
        "import tensorflow as tf\n",
        "# IMPORT MNIST DATASET \n",
        "mnist = tf.keras.datasets.mnist\n",
        "# CREATE CALLBACK FOR TOLERANCE ACCEPTED IN YOUR MODEL\n",
        "class myCallback(tf.keras.callbacks.Callback):\n",
        "  def on_epoch_end(self, epoch, logs={}):\n",
        "    if (logs.get('acc') > 0.99):\n",
        "      print(\"\\nReach 99% accuracy reached, so cancelling training\")\n",
        "      self.model.stop_training = True\n",
        "# CREATE AN INSTANCE OF SUCH TOLERANCE ACCEPTED\n",
        "tolerance_callback = myCallback()\n",
        "# UNPACKAGE DATA FROM MNIST\n",
        "(x_train, y_train),(x_test, y_test) = mnist.load_data()\n",
        "# NORMALIZE DATA\n",
        "x_train = x_train / 255.0\n",
        "x_test = x_test / 255.0\n",
        "# DESING THE MODEL (PATTERN RECOGNITION)\n",
        "model = tf.keras.models.Sequential([\n",
        "# DEFINE LAYER OF NEURONAL NETWORKS\n",
        "    tf.keras.layers.Flatten(input_shape=(28,28)),\n",
        "    tf.keras.layers.Dense(1024, activation=tf.nn.relu),\n",
        "    tf.keras.layers.Dense(10, activation=tf.nn.softmax)\n",
        "])\n",
        "# BUILD YOUR MODEL\n",
        "model.compile(optimizer='adam',\n",
        "              loss='sparse_categorical_crossentropy',\n",
        "              metrics=['accuracy'])\n",
        "# TRAIN IT\n",
        "model.fit(x_train, y_train, epochs=10, callbacks=[tolerance_callback] )"
      ],
      "execution_count": 7,
      "outputs": [
        {
          "output_type": "stream",
          "text": [
            "Epoch 1/10\n",
            "60000/60000 [==============================] - 35s 588us/sample - loss: 0.1839 - acc: 0.9442\n",
            "Epoch 2/10\n",
            "60000/60000 [==============================] - 35s 591us/sample - loss: 0.0744 - acc: 0.9766\n",
            "Epoch 3/10\n",
            "60000/60000 [==============================] - 36s 594us/sample - loss: 0.0471 - acc: 0.9849\n",
            "Epoch 4/10\n",
            "60000/60000 [==============================] - 36s 597us/sample - loss: 0.0355 - acc: 0.9885\n",
            "Epoch 5/10\n",
            "59904/60000 [============================>.] - ETA: 0s - loss: 0.0262 - acc: 0.9912\n",
            "Reach 99% accuracy reached, so cancelling training\n",
            "60000/60000 [==============================] - 35s 580us/sample - loss: 0.0262 - acc: 0.9912\n"
          ],
          "name": "stdout"
        },
        {
          "output_type": "execute_result",
          "data": {
            "text/plain": [
              "<tensorflow.python.keras.callbacks.History at 0x7f0d68fd7a90>"
            ]
          },
          "metadata": {
            "tags": []
          },
          "execution_count": 7
        }
      ]
    }
  ]
}