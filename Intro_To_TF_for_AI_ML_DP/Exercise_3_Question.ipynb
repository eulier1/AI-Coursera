{
  "nbformat": 4,
  "nbformat_minor": 0,
  "metadata": {
    "colab": {
      "name": "Exercise 3 - Question.ipynb",
      "version": "0.3.2",
      "provenance": [],
      "collapsed_sections": []
    },
    "kernelspec": {
      "name": "python3",
      "display_name": "Python 3"
    },
    "accelerator": "GPU"
  },
  "cells": [
    {
      "cell_type": "markdown",
      "metadata": {
        "id": "iQjHqsmTAVLU",
        "colab_type": "text"
      },
      "source": [
        "## Exercise 3\n",
        "In the videos you looked at how you would improve Fashion MNIST using Convolutions. For your exercise see if you can improve MNIST to 99.8% accuracy or more using only a single convolutional layer and a single MaxPooling 2D. You should stop training once the accuracy goes above this amount. It should happen in less than 20 epochs, so it's ok to hard code the number of epochs for training, but your training must end once it hits the above metric. If it doesn't, then you'll need to redesign your layers.\n",
        "\n",
        "I've started the code for you -- you need to finish it!\n",
        "\n",
        "When 99.8% accuracy has been hit, you should print out the string \"Reached 99.8% accuracy so cancelling training!\"\n"
      ]
    },
    {
      "cell_type": "code",
      "metadata": {
        "id": "sfQRyaJWAIdg",
        "colab_type": "code",
        "colab": {
          "base_uri": "https://localhost:8080/",
          "height": 626
        },
        "outputId": "17874845-9fc8-4aaa-a2a7-ac832e947dff"
      },
      "source": [
        "import tensorflow as tf\n",
        "\n",
        "class myCallback(tf.keras.callbacks.Callback):\n",
        "  def on_epoch_end(self, epoch, logs={}):\n",
        "    if (logs.get('acc') > 0.998):\n",
        "      print(\"\\nReach 99.8% accuracy reached, so cancelling training\")\n",
        "      self.model.stop_training = True\n",
        "      \n",
        "callback = myCallback()\n",
        "\n",
        "mnist = tf.keras.datasets.mnist\n",
        "(training_images, training_labels), (test_images, test_labels) = mnist.load_data()\n",
        "training_images = training_images.reshape(60000, 28, 28, 1)\n",
        "training_images = training_images / 255.0\n",
        "test_images = test_images.reshape(10000, 28, 28, 1)\n",
        "test_images = test_images / 255.0\n",
        "\n",
        "model = tf.keras.models.Sequential([\n",
        "  tf.keras.layers.Conv2D(32, (3,3), activation='relu', input_shape=(28, 28, 1)),\n",
        "  tf.keras.layers.MaxPooling2D(2,2),\n",
        "  tf.keras.layers.Conv2D(64, (3,3), activation='relu'),\n",
        "  tf.keras.layers.MaxPooling2D(2,2),\n",
        "  tf.keras.layers.Flatten(),\n",
        "  tf.keras.layers.Dense(128, activation='relu'),\n",
        "  tf.keras.layers.Dense(10, activation='softmax')\n",
        "])\n",
        "\n",
        "model.compile( optimizer='adam', loss='sparse_categorical_crossentropy', metrics=['accuracy'] )\n",
        "\n",
        "model.fit( training_images, training_labels, epochs=20, callbacks=[callback])\n",
        "\n",
        "test_loss, test_acc = model.evaluate(test_images, test_labels)\n",
        "\n",
        "print(test_acc)\n"
      ],
      "execution_count": 1,
      "outputs": [
        {
          "output_type": "stream",
          "text": [
            "Downloading data from https://storage.googleapis.com/tensorflow/tf-keras-datasets/mnist.npz\n",
            "11493376/11490434 [==============================] - 0s 0us/step\n",
            "WARNING:tensorflow:From /usr/local/lib/python3.6/dist-packages/tensorflow/python/ops/resource_variable_ops.py:435: colocate_with (from tensorflow.python.framework.ops) is deprecated and will be removed in a future version.\n",
            "Instructions for updating:\n",
            "Colocations handled automatically by placer.\n",
            "Epoch 1/20\n",
            "60000/60000 [==============================] - 15s 253us/sample - loss: 0.1308 - acc: 0.9596\n",
            "Epoch 2/20\n",
            "60000/60000 [==============================] - 12s 206us/sample - loss: 0.0421 - acc: 0.9870\n",
            "Epoch 3/20\n",
            "60000/60000 [==============================] - 12s 206us/sample - loss: 0.0289 - acc: 0.9914\n",
            "Epoch 4/20\n",
            "60000/60000 [==============================] - 12s 206us/sample - loss: 0.0200 - acc: 0.9937\n",
            "Epoch 5/20\n",
            "60000/60000 [==============================] - 12s 206us/sample - loss: 0.0161 - acc: 0.9946\n",
            "Epoch 6/20\n",
            "60000/60000 [==============================] - 12s 206us/sample - loss: 0.0130 - acc: 0.9959\n",
            "Epoch 7/20\n",
            "60000/60000 [==============================] - 12s 207us/sample - loss: 0.0095 - acc: 0.9971\n",
            "Epoch 8/20\n",
            "60000/60000 [==============================] - 12s 207us/sample - loss: 0.0083 - acc: 0.9971\n",
            "Epoch 9/20\n",
            "60000/60000 [==============================] - 12s 205us/sample - loss: 0.0076 - acc: 0.9974\n",
            "Epoch 10/20\n",
            "60000/60000 [==============================] - 12s 205us/sample - loss: 0.0065 - acc: 0.9978\n",
            "Epoch 11/20\n",
            "59840/60000 [============================>.] - ETA: 0s - loss: 0.0050 - acc: 0.9987\n",
            "Reach 99.8% accuracy reached, so cancelling training\n",
            "60000/60000 [==============================] - 12s 205us/sample - loss: 0.0050 - acc: 0.9987\n",
            "10000/10000 [==============================] - 1s 92us/sample - loss: 0.0402 - acc: 0.9916\n",
            "0.9916\n"
          ],
          "name": "stdout"
        }
      ]
    }
  ]
}