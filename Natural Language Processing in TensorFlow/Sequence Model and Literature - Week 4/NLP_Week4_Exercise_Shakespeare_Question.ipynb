{
  "nbformat": 4,
  "nbformat_minor": 0,
  "metadata": {
    "colab": {
      "name": "NLP-Week4-Exercise-Shakespeare-Question.ipynb",
      "version": "0.3.2",
      "provenance": []
    },
    "kernelspec": {
      "name": "python2",
      "display_name": "Python 2"
    },
    "accelerator": "GPU"
  },
  "cells": [
    {
      "cell_type": "code",
      "metadata": {
        "id": "BOwsuGQQY9OL",
        "colab_type": "code",
        "colab": {}
      },
      "source": [
        "from tensorflow.keras.preprocessing.sequence import pad_sequences\n",
        "from tensorflow.keras.layers import Embedding, LSTM, Dense, Dropout, Bidirectional\n",
        "from tensorflow.keras.preprocessing.text import Tokenizer\n",
        "from tensorflow.keras.models import Sequential\n",
        "from tensorflow.keras.optimizers import Adam\n",
        "from tensorflow.keras import regularizers\n",
        "import tensorflow.keras.utils as ku \n",
        "import numpy as np "
      ],
      "execution_count": 0,
      "outputs": []
    },
    {
      "cell_type": "code",
      "metadata": {
        "colab_type": "code",
        "id": "PRnDnCW-Z7qv",
        "colab": {
          "base_uri": "https://localhost:8080/",
          "height": 225
        },
        "outputId": "e718b4d4-08f5-4ed8-cbb2-fe6bddb205d8"
      },
      "source": [
        "tokenizer = Tokenizer()\n",
        "!wget --no-check-certificate \\\n",
        "    https://storage.googleapis.com/laurencemoroney-blog.appspot.com/sonnets.txt \\\n",
        "    -O /tmp/sonnets.txt\n",
        "data = open('/tmp/sonnets.txt').read()\n",
        "\n",
        "corpus = data.lower().split(\"\\n\")\n",
        "\n",
        "\n",
        "tokenizer.fit_on_texts(corpus)\n",
        "total_words = len(tokenizer.word_index) + 1\n",
        "\n",
        "# create input sequences using list of tokens\n",
        "input_sequences = []\n",
        "for line in corpus:\n",
        "\ttoken_list = tokenizer.texts_to_sequences([line])[0]\n",
        "\tfor i in range(1, len(token_list)):\n",
        "\t\tn_gram_sequence = token_list[:i+1]\n",
        "\t\tinput_sequences.append(n_gram_sequence)\n",
        "\n",
        "\n",
        "# pad sequences \n",
        "max_sequence_len = max([len(x) for x in input_sequences])\n",
        "input_sequences = np.array(pad_sequences(input_sequences, maxlen=max_sequence_len, padding='pre'))\n",
        "\n",
        "# create predictors and label\n",
        "predictors, label = input_sequences[:,:-1],input_sequences[:,-1]\n",
        "\n",
        "label = ku.to_categorical(label, num_classes=total_words)"
      ],
      "execution_count": 14,
      "outputs": [
        {
          "output_type": "stream",
          "text": [
            "--2019-08-10 15:33:46--  https://storage.googleapis.com/laurencemoroney-blog.appspot.com/sonnets.txt\n",
            "Resolving storage.googleapis.com (storage.googleapis.com)... 172.217.26.16, 2404:6800:4004:801::2010\n",
            "Connecting to storage.googleapis.com (storage.googleapis.com)|172.217.26.16|:443... connected.\n",
            "HTTP request sent, awaiting response... 200 OK\n",
            "Length: 93578 (91K) [text/plain]\n",
            "Saving to: ‘/tmp/sonnets.txt’\n",
            "\n",
            "\r/tmp/sonnets.txt      0%[                    ]       0  --.-KB/s               \r/tmp/sonnets.txt    100%[===================>]  91.38K  --.-KB/s    in 0.001s  \n",
            "\n",
            "2019-08-10 15:33:47 (135 MB/s) - ‘/tmp/sonnets.txt’ saved [93578/93578]\n",
            "\n"
          ],
          "name": "stdout"
        }
      ]
    },
    {
      "cell_type": "code",
      "metadata": {
        "id": "w9vH8Y59ajYL",
        "colab_type": "code",
        "colab": {
          "base_uri": "https://localhost:8080/",
          "height": 413
        },
        "outputId": "ce951764-c116-4f76-8b1f-e4bec644fd91"
      },
      "source": [
        "model = Sequential()\n",
        "model.add(Embedding(total_words, 100, input_length=max_sequence_len-1))\n",
        "model.add(Bidirectional(LSTM(150, return_sequences=True)))\n",
        "model.add(Dropout(0.2))\n",
        "model.add(LSTM(100))\n",
        "model.add(Dense(total_words/2, activation='relu', kernel_regularizer=regularizers.l2(0.01)))\n",
        "model.add(Dense(total_words, activation='softmax'))\n",
        "model.compile(loss='categorical_crossentropy', optimizer='adam', metrics=['accuracy'])\n",
        "print(model.summary())\n"
      ],
      "execution_count": 15,
      "outputs": [
        {
          "output_type": "stream",
          "text": [
            "Model: \"sequential_2\"\n",
            "_________________________________________________________________\n",
            "Layer (type)                 Output Shape              Param #   \n",
            "=================================================================\n",
            "embedding_2 (Embedding)      (None, 10, 100)           321100    \n",
            "_________________________________________________________________\n",
            "bidirectional_2 (Bidirection (None, 10, 300)           301200    \n",
            "_________________________________________________________________\n",
            "dropout_2 (Dropout)          (None, 10, 300)           0         \n",
            "_________________________________________________________________\n",
            "lstm_5 (LSTM)                (None, 100)               160400    \n",
            "_________________________________________________________________\n",
            "dense (Dense)                (None, 1605)              162105    \n",
            "_________________________________________________________________\n",
            "dense_1 (Dense)              (None, 3211)              5156866   \n",
            "=================================================================\n",
            "Total params: 6,101,671\n",
            "Trainable params: 6,101,671\n",
            "Non-trainable params: 0\n",
            "_________________________________________________________________\n",
            "None\n"
          ],
          "name": "stdout"
        }
      ]
    },
    {
      "cell_type": "code",
      "metadata": {
        "id": "AIg2f1HBxqof",
        "colab_type": "code",
        "colab": {
          "base_uri": "https://localhost:8080/",
          "height": 1000
        },
        "outputId": "a382ed84-4253-4916-fbcf-7edaf39fb9ea"
      },
      "source": [
        "history = model.fit(predictors, label, epochs=100, verbose=1)"
      ],
      "execution_count": 16,
      "outputs": [
        {
          "output_type": "stream",
          "text": [
            "W0810 15:34:47.374361 140583698241408 deprecation.py:323] From /usr/local/lib/python2.7/dist-packages/tensorflow/python/ops/math_grad.py:1250: where (from tensorflow.python.ops.array_ops) is deprecated and will be removed in a future version.\n",
            "Instructions for updating:\n",
            "Use tf.where in 2.0, which has the same broadcast rule as np.where\n"
          ],
          "name": "stderr"
        },
        {
          "output_type": "stream",
          "text": [
            "Epoch 1/100\n",
            "15462/15462 [==============================] - 26s 2ms/sample - loss: 6.8955 - acc: 0.0230\n",
            "Epoch 2/100\n",
            "15462/15462 [==============================] - 25s 2ms/sample - loss: 6.4997 - acc: 0.0217\n",
            "Epoch 3/100\n",
            "15462/15462 [==============================] - 25s 2ms/sample - loss: 6.3639 - acc: 0.0274\n",
            "Epoch 4/100\n",
            "15462/15462 [==============================] - 25s 2ms/sample - loss: 6.2607 - acc: 0.0288\n",
            "Epoch 5/100\n",
            "15462/15462 [==============================] - 25s 2ms/sample - loss: 6.1828 - acc: 0.0356\n",
            "Epoch 6/100\n",
            "15462/15462 [==============================] - 25s 2ms/sample - loss: 6.1107 - acc: 0.0394\n",
            "Epoch 7/100\n",
            "15462/15462 [==============================] - 25s 2ms/sample - loss: 6.0309 - acc: 0.0407\n",
            "Epoch 8/100\n",
            "15462/15462 [==============================] - 24s 2ms/sample - loss: 5.9443 - acc: 0.0440\n",
            "Epoch 9/100\n",
            "15462/15462 [==============================] - 25s 2ms/sample - loss: 5.8452 - acc: 0.0507\n",
            "Epoch 10/100\n",
            "15462/15462 [==============================] - 25s 2ms/sample - loss: 5.7417 - acc: 0.0559\n",
            "Epoch 11/100\n",
            "15462/15462 [==============================] - 24s 2ms/sample - loss: 5.6329 - acc: 0.0625\n",
            "Epoch 12/100\n",
            "15462/15462 [==============================] - 24s 2ms/sample - loss: 5.5353 - acc: 0.0687\n",
            "Epoch 13/100\n",
            "15462/15462 [==============================] - 24s 2ms/sample - loss: 5.4339 - acc: 0.0718\n",
            "Epoch 14/100\n",
            "15462/15462 [==============================] - 24s 2ms/sample - loss: 5.3364 - acc: 0.0787\n",
            "Epoch 15/100\n",
            "15462/15462 [==============================] - 24s 2ms/sample - loss: 5.2333 - acc: 0.0865\n",
            "Epoch 16/100\n",
            "15462/15462 [==============================] - 24s 2ms/sample - loss: 5.1331 - acc: 0.0936\n",
            "Epoch 17/100\n",
            "15462/15462 [==============================] - 24s 2ms/sample - loss: 5.0365 - acc: 0.1032\n",
            "Epoch 18/100\n",
            "15462/15462 [==============================] - 25s 2ms/sample - loss: 4.9319 - acc: 0.1076\n",
            "Epoch 19/100\n",
            "15462/15462 [==============================] - 24s 2ms/sample - loss: 4.8312 - acc: 0.1160\n",
            "Epoch 20/100\n",
            "15462/15462 [==============================] - 24s 2ms/sample - loss: 4.7266 - acc: 0.1251\n",
            "Epoch 21/100\n",
            "15462/15462 [==============================] - 24s 2ms/sample - loss: 4.6290 - acc: 0.1374\n",
            "Epoch 22/100\n",
            "15462/15462 [==============================] - 24s 2ms/sample - loss: 4.5167 - acc: 0.1475\n",
            "Epoch 23/100\n",
            "15462/15462 [==============================] - 24s 2ms/sample - loss: 4.4178 - acc: 0.1570\n",
            "Epoch 24/100\n",
            "15462/15462 [==============================] - 24s 2ms/sample - loss: 4.3174 - acc: 0.1691\n",
            "Epoch 25/100\n",
            "15462/15462 [==============================] - 24s 2ms/sample - loss: 4.2100 - acc: 0.1826\n",
            "Epoch 26/100\n",
            "15462/15462 [==============================] - 24s 2ms/sample - loss: 4.0973 - acc: 0.1992\n",
            "Epoch 27/100\n",
            "15462/15462 [==============================] - 24s 2ms/sample - loss: 3.9910 - acc: 0.2143\n",
            "Epoch 28/100\n",
            "15462/15462 [==============================] - 24s 2ms/sample - loss: 3.8999 - acc: 0.2255\n",
            "Epoch 29/100\n",
            "15462/15462 [==============================] - 24s 2ms/sample - loss: 3.7970 - acc: 0.2439\n",
            "Epoch 30/100\n",
            "15462/15462 [==============================] - 24s 2ms/sample - loss: 3.7078 - acc: 0.2610\n",
            "Epoch 31/100\n",
            "15462/15462 [==============================] - 25s 2ms/sample - loss: 3.6117 - acc: 0.2797\n",
            "Epoch 32/100\n",
            "15462/15462 [==============================] - 24s 2ms/sample - loss: 3.5113 - acc: 0.3029\n",
            "Epoch 33/100\n",
            "15462/15462 [==============================] - 24s 2ms/sample - loss: 3.4288 - acc: 0.3175\n",
            "Epoch 34/100\n",
            "15462/15462 [==============================] - 24s 2ms/sample - loss: 3.3482 - acc: 0.3372\n",
            "Epoch 35/100\n",
            "15462/15462 [==============================] - 24s 2ms/sample - loss: 3.2674 - acc: 0.3542\n",
            "Epoch 36/100\n",
            "15462/15462 [==============================] - 24s 2ms/sample - loss: 3.1675 - acc: 0.3747\n",
            "Epoch 37/100\n",
            "15462/15462 [==============================] - 24s 2ms/sample - loss: 3.0961 - acc: 0.3903\n",
            "Epoch 38/100\n",
            "15462/15462 [==============================] - 24s 2ms/sample - loss: 3.0220 - acc: 0.4142\n",
            "Epoch 39/100\n",
            "15462/15462 [==============================] - 24s 2ms/sample - loss: 2.9510 - acc: 0.4268\n",
            "Epoch 40/100\n",
            "15462/15462 [==============================] - 24s 2ms/sample - loss: 2.8742 - acc: 0.4455\n",
            "Epoch 41/100\n",
            "15462/15462 [==============================] - 24s 2ms/sample - loss: 2.8025 - acc: 0.4614\n",
            "Epoch 42/100\n",
            "15462/15462 [==============================] - 24s 2ms/sample - loss: 2.7421 - acc: 0.4750\n",
            "Epoch 43/100\n",
            "15462/15462 [==============================] - 24s 2ms/sample - loss: 2.6783 - acc: 0.4874\n",
            "Epoch 44/100\n",
            "15462/15462 [==============================] - 24s 2ms/sample - loss: 2.6264 - acc: 0.5005\n",
            "Epoch 45/100\n",
            "15462/15462 [==============================] - 24s 2ms/sample - loss: 2.5614 - acc: 0.5181\n",
            "Epoch 46/100\n",
            "15462/15462 [==============================] - 24s 2ms/sample - loss: 2.5080 - acc: 0.5299\n",
            "Epoch 47/100\n",
            "15462/15462 [==============================] - 24s 2ms/sample - loss: 2.4682 - acc: 0.5354\n",
            "Epoch 48/100\n",
            "15462/15462 [==============================] - 24s 2ms/sample - loss: 2.4063 - acc: 0.5525\n",
            "Epoch 49/100\n",
            "15462/15462 [==============================] - 24s 2ms/sample - loss: 2.3440 - acc: 0.5631\n",
            "Epoch 50/100\n",
            "15462/15462 [==============================] - 24s 2ms/sample - loss: 2.2934 - acc: 0.5741\n",
            "Epoch 51/100\n",
            "15462/15462 [==============================] - 24s 2ms/sample - loss: 2.2557 - acc: 0.5883\n",
            "Epoch 52/100\n",
            "15462/15462 [==============================] - 24s 2ms/sample - loss: 2.2099 - acc: 0.5900\n",
            "Epoch 53/100\n",
            "15462/15462 [==============================] - 24s 2ms/sample - loss: 2.1690 - acc: 0.6021\n",
            "Epoch 54/100\n",
            "15462/15462 [==============================] - 24s 2ms/sample - loss: 2.1261 - acc: 0.6148\n",
            "Epoch 55/100\n",
            "15462/15462 [==============================] - 24s 2ms/sample - loss: 2.0920 - acc: 0.6165\n",
            "Epoch 56/100\n",
            "15462/15462 [==============================] - 24s 2ms/sample - loss: 2.0506 - acc: 0.6262\n",
            "Epoch 57/100\n",
            "15462/15462 [==============================] - 24s 2ms/sample - loss: 2.0054 - acc: 0.6380\n",
            "Epoch 58/100\n",
            "15462/15462 [==============================] - 24s 2ms/sample - loss: 1.9707 - acc: 0.6475\n",
            "Epoch 59/100\n",
            "15462/15462 [==============================] - 24s 2ms/sample - loss: 1.9403 - acc: 0.6489\n",
            "Epoch 60/100\n",
            "15462/15462 [==============================] - 24s 2ms/sample - loss: 1.9059 - acc: 0.6592\n",
            "Epoch 61/100\n",
            "15462/15462 [==============================] - 24s 2ms/sample - loss: 1.8668 - acc: 0.6653\n",
            "Epoch 62/100\n",
            "15462/15462 [==============================] - 24s 2ms/sample - loss: 1.8414 - acc: 0.6738\n",
            "Epoch 63/100\n",
            "15462/15462 [==============================] - 24s 2ms/sample - loss: 1.8077 - acc: 0.6769\n",
            "Epoch 64/100\n",
            "15462/15462 [==============================] - 24s 2ms/sample - loss: 1.7702 - acc: 0.6853\n",
            "Epoch 65/100\n",
            "15462/15462 [==============================] - 24s 2ms/sample - loss: 1.7500 - acc: 0.6893\n",
            "Epoch 66/100\n",
            "15462/15462 [==============================] - 24s 2ms/sample - loss: 1.7233 - acc: 0.6931\n",
            "Epoch 67/100\n",
            "15462/15462 [==============================] - 24s 2ms/sample - loss: 1.7064 - acc: 0.6980\n",
            "Epoch 68/100\n",
            "15462/15462 [==============================] - 24s 2ms/sample - loss: 1.6775 - acc: 0.7004\n",
            "Epoch 69/100\n",
            "15462/15462 [==============================] - 24s 2ms/sample - loss: 1.6494 - acc: 0.7090\n",
            "Epoch 70/100\n",
            "15462/15462 [==============================] - 24s 2ms/sample - loss: 1.6194 - acc: 0.7127\n",
            "Epoch 71/100\n",
            "15462/15462 [==============================] - 24s 2ms/sample - loss: 1.5839 - acc: 0.7228\n",
            "Epoch 72/100\n",
            "15462/15462 [==============================] - 24s 2ms/sample - loss: 1.5787 - acc: 0.7256\n",
            "Epoch 73/100\n",
            "15462/15462 [==============================] - 24s 2ms/sample - loss: 1.5581 - acc: 0.7247\n",
            "Epoch 74/100\n",
            "15462/15462 [==============================] - 24s 2ms/sample - loss: 1.5328 - acc: 0.7311\n",
            "Epoch 75/100\n",
            "15462/15462 [==============================] - 24s 2ms/sample - loss: 1.5196 - acc: 0.7326\n",
            "Epoch 76/100\n",
            "15462/15462 [==============================] - 24s 2ms/sample - loss: 1.5085 - acc: 0.7361\n",
            "Epoch 77/100\n",
            "15462/15462 [==============================] - 24s 2ms/sample - loss: 1.4752 - acc: 0.7390\n",
            "Epoch 78/100\n",
            "15462/15462 [==============================] - 23s 2ms/sample - loss: 1.4575 - acc: 0.7492\n",
            "Epoch 79/100\n",
            "15462/15462 [==============================] - 24s 2ms/sample - loss: 1.4372 - acc: 0.7526\n",
            "Epoch 80/100\n",
            "15462/15462 [==============================] - 24s 2ms/sample - loss: 1.4289 - acc: 0.7502\n",
            "Epoch 81/100\n",
            "15462/15462 [==============================] - 24s 2ms/sample - loss: 1.4008 - acc: 0.7587\n",
            "Epoch 82/100\n",
            "15462/15462 [==============================] - 23s 2ms/sample - loss: 1.3862 - acc: 0.7619\n",
            "Epoch 83/100\n",
            "15462/15462 [==============================] - 24s 2ms/sample - loss: 1.3675 - acc: 0.7627\n",
            "Epoch 84/100\n",
            "15462/15462 [==============================] - 23s 2ms/sample - loss: 1.3521 - acc: 0.7617\n",
            "Epoch 85/100\n",
            "15462/15462 [==============================] - 23s 2ms/sample - loss: 1.3415 - acc: 0.7632\n",
            "Epoch 86/100\n",
            "15462/15462 [==============================] - 23s 2ms/sample - loss: 1.3350 - acc: 0.7647\n",
            "Epoch 87/100\n",
            "15462/15462 [==============================] - 24s 2ms/sample - loss: 1.3152 - acc: 0.7703\n",
            "Epoch 88/100\n",
            "15462/15462 [==============================] - 23s 2ms/sample - loss: 1.3033 - acc: 0.7717\n",
            "Epoch 89/100\n",
            "15462/15462 [==============================] - 23s 2ms/sample - loss: 1.2801 - acc: 0.7791\n",
            "Epoch 90/100\n",
            "15462/15462 [==============================] - 24s 2ms/sample - loss: 1.2628 - acc: 0.7802\n",
            "Epoch 91/100\n",
            "15462/15462 [==============================] - 23s 2ms/sample - loss: 1.2529 - acc: 0.7818\n",
            "Epoch 92/100\n",
            "15462/15462 [==============================] - 24s 2ms/sample - loss: 1.2457 - acc: 0.7798\n",
            "Epoch 93/100\n",
            "15462/15462 [==============================] - 24s 2ms/sample - loss: 1.2317 - acc: 0.7855\n",
            "Epoch 94/100\n",
            "15462/15462 [==============================] - 23s 2ms/sample - loss: 1.2158 - acc: 0.7904\n",
            "Epoch 95/100\n",
            "15462/15462 [==============================] - 23s 2ms/sample - loss: 1.2156 - acc: 0.7860\n",
            "Epoch 96/100\n",
            "15462/15462 [==============================] - 24s 2ms/sample - loss: 1.2034 - acc: 0.7899\n",
            "Epoch 97/100\n",
            "15462/15462 [==============================] - 24s 2ms/sample - loss: 1.1888 - acc: 0.7946\n",
            "Epoch 98/100\n",
            "15462/15462 [==============================] - 23s 2ms/sample - loss: 1.1801 - acc: 0.7957\n",
            "Epoch 99/100\n",
            "15462/15462 [==============================] - 24s 2ms/sample - loss: 1.1661 - acc: 0.7943\n",
            "Epoch 100/100\n",
            "15462/15462 [==============================] - 24s 2ms/sample - loss: 1.1538 - acc: 0.8000\n"
          ],
          "name": "stdout"
        }
      ]
    },
    {
      "cell_type": "code",
      "metadata": {
        "id": "1fXTEO3GJ282",
        "colab_type": "code",
        "colab": {
          "base_uri": "https://localhost:8080/",
          "height": 545
        },
        "outputId": "651352d1-a61d-4897-e9f4-530ffd677f19"
      },
      "source": [
        "import matplotlib.pyplot as plt\n",
        "acc = history.history['acc']\n",
        "loss = history.history['loss']\n",
        "\n",
        "epochs = range(len(acc))\n",
        "\n",
        "plt.plot(epochs, acc, 'b', label='Training accuracy')\n",
        "plt.title('Training accuracy')\n",
        "\n",
        "plt.figure()\n",
        "\n",
        "plt.plot(epochs, loss, 'b', label='Training Loss')\n",
        "plt.title('Training loss')\n",
        "plt.legend()\n",
        "\n",
        "plt.show()"
      ],
      "execution_count": 17,
      "outputs": [
        {
          "output_type": "display_data",
          "data": {
            "image/png": "[encoded data removed]",
            "text/plain": [
              "<Figure size 432x288 with 1 Axes>"
            ]
          },
          "metadata": {
            "tags": []
          }
        },
        {
          "output_type": "display_data",
          "data": {
            "image/png": "[encoded data removed]",
            "text/plain": [
              "<Figure size 432x288 with 1 Axes>"
            ]
          },
          "metadata": {
            "tags": []
          }
        }
      ]
    },
    {
      "cell_type": "code",
      "metadata": {
        "id": "6Vc6PHgxa6Hm",
        "colab_type": "code",
        "colab": {
          "base_uri": "https://localhost:8080/",
          "height": 56
        },
        "outputId": "d97fda81-db19-444a-b25a-d71daf45b965"
      },
      "source": [
        "seed_text = \"Help me Obi Wan Kenobi, you're my only hope\"\n",
        "next_words = 100\n",
        "  \n",
        "for _ in range(next_words):\n",
        "\ttoken_list = tokenizer.texts_to_sequences([seed_text])[0]\n",
        "\ttoken_list = pad_sequences([token_list], maxlen=max_sequence_len-1, padding='pre')\n",
        "\tpredicted = model.predict_classes(token_list, verbose=0)\n",
        "\toutput_word = \"\"\n",
        "\tfor word, index in tokenizer.word_index.items():\n",
        "\t\tif index == predicted:\n",
        "\t\t\toutput_word = word\n",
        "\t\t\tbreak\n",
        "\tseed_text += \" \" + output_word\n",
        "print(seed_text)"
      ],
      "execution_count": 20,
      "outputs": [
        {
          "output_type": "stream",
          "text": [
            "Help me Obi Wan Kenobi, you're my only hope another life things kind bright bright ' bright ' live bright young days forth done thee you still be young me still bright look so kind live young me bright bad young me bright still live bright true glory bright thee find sort groan bright good ' say me bright true ' twain ' bright told you forsaken commend bad room last dead kind toil'd quite wrong than depend scope clears light quite sit sit sit gone lived dead express'd rare glory dead respect shown shown shown remain behind rolling date shade hate lives bed another cross cross ' to\n"
          ],
          "name": "stdout"
        }
      ]
    },
    {
      "cell_type": "code",
      "metadata": {
        "id": "UEqN86hTNqWZ",
        "colab_type": "code",
        "colab": {}
      },
      "source": [
        ""
      ],
      "execution_count": 0,
      "outputs": []
    }
  ]
}