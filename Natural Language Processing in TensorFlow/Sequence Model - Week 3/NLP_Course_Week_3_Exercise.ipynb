{
 "cells": [
  {
   "cell_type": "code",
   "execution_count": 0,
   "metadata": {
    "colab": {},
    "colab_type": "code",
    "id": "hmA6EzkQJ5jt"
   },
   "outputs": [],
   "source": [
    "import json\n",
    "import tensorflow as tf\n",
    "import csv\n",
    "import random\n",
    "import numpy as np\n",
    "\n",
    "from tensorflow.keras.preprocessing.text import Tokenizer\n",
    "from tensorflow.keras.preprocessing.sequence import pad_sequences\n",
    "from tensorflow.keras.utils import to_categorical\n",
    "from tensorflow.keras import regularizers\n",
    "\n",
    "\n",
    "embedding_dim = 100\n",
    "max_length = 16\n",
    "trunc_type='post'\n",
    "padding_type='post'\n",
    "oov_tok = \"<OOV>\"\n",
    "training_size=160000\n",
    "test_portion=.1\n",
    "\n",
    "corpus = []\n"
   ]
  },
  {
   "cell_type": "code",
   "execution_count": 3,
   "metadata": {
    "colab": {
     "base_uri": "https://localhost:8080/",
     "height": 225
    },
    "colab_type": "code",
    "id": "bM0l_dORKqE0",
    "outputId": "b9399d65-9bc9-4456-bd9a-261eef4a944b"
   },
   "outputs": [
    {
     "name": "stdout",
     "output_type": "stream",
     "text": [
      "--2019-08-10 01:58:45--  https://storage.googleapis.com/laurencemoroney-blog.appspot.com/training_cleaned.csv\n",
      "Resolving storage.googleapis.com (storage.googleapis.com)... 74.125.141.128, 2607:f8b0:400c:c06::80\n",
      "Connecting to storage.googleapis.com (storage.googleapis.com)|74.125.141.128|:443... connected.\n",
      "HTTP request sent, awaiting response... 200 OK\n",
      "Length: 238942690 (228M) [application/octet-stream]\n",
      "Saving to: ‘/tmp/training_cleaned.csv’\n",
      "\n",
      "/tmp/training_clean 100%[===================>] 227.87M   142MB/s    in 1.6s    \n",
      "\n",
      "2019-08-10 01:58:47 (142 MB/s) - ‘/tmp/training_cleaned.csv’ saved [238942690/238942690]\n",
      "\n"
     ]
    }
   ],
   "source": [
    "\n",
    "# Note that I cleaned the Stanford dataset to remove LATIN1 encoding to make it easier for Python CSV reader\n",
    "# You can do that yourself with:\n",
    "# iconv -f LATIN1 -t UTF8 training.1600000.processed.noemoticon.csv -o training_cleaned.csv\n",
    "# I then hosted it on my site to make it easier to use in this notebook\n",
    "\n",
    "!wget --no-check-certificate \\\n",
    "    https://storage.googleapis.com/laurencemoroney-blog.appspot.com/training_cleaned.csv \\\n",
    "    -O /tmp/training_cleaned.csv\n",
    "\n",
    "num_sentences = 0\n",
    "\n",
    "with open(\"/tmp/training_cleaned.csv\") as csvfile:\n",
    "    reader = csv.reader(csvfile, delimiter=',')\n",
    "    for row in reader:\n",
    "        list_item=[]\n",
    "        list_item.append(row[5])\n",
    "        this_label=row[0]\n",
    "        if this_label=='0':\n",
    "            list_item.append(0)\n",
    "        else:\n",
    "            list_item.append(1)\n",
    "        num_sentences = num_sentences + 1\n",
    "        corpus.append(list_item)\n",
    "\n",
    "\n"
   ]
  },
  {
   "cell_type": "code",
   "execution_count": 4,
   "metadata": {
    "colab": {
     "base_uri": "https://localhost:8080/",
     "height": 74
    },
    "colab_type": "code",
    "id": "3kxblBUjEUX-",
    "outputId": "624bb98a-fdbd-4f94-eccb-8a4b84b2380c"
   },
   "outputs": [
    {
     "name": "stdout",
     "output_type": "stream",
     "text": [
      "1600000\n",
      "1600000\n",
      "[\"is upset that he can't update his Facebook by texting it... and might cry as a result  School today also. Blah!\", 0]\n"
     ]
    }
   ],
   "source": [
    "print(num_sentences)\n",
    "print(len(corpus))\n",
    "print(corpus[1])\n",
    "\n",
    "# Expected Output:\n",
    "# 1600000\n",
    "# 1600000\n",
    "# [\"is upset that he can't update his Facebook by texting it... and might cry as a result  School today also. Blah!\", 0]"
   ]
  },
  {
   "cell_type": "code",
   "execution_count": 0,
   "metadata": {
    "colab": {},
    "colab_type": "code",
    "id": "ohOGz24lsNAD"
   },
   "outputs": [],
   "source": [
    "sentences=[]\n",
    "labels=[]\n",
    "random.shuffle(corpus)\n",
    "for x in range(training_size):\n",
    "    sentences.append(corpus[x][0])\n",
    "    labels.append(corpus[x][1])\n",
    "\n",
    "\n",
    "tokenizer = Tokenizer()\n",
    "tokenizer.fit_on_texts(sentences)\n",
    "\n",
    "word_index = tokenizer.word_index\n",
    "vocab_size=len(word_index)\n",
    "\n",
    "sequences = tokenizer.texts_to_sequences(sentences)\n",
    "padded = pad_sequences(sequences, maxlen=max_length, padding=padding_type, truncating=trunc_type)\n",
    "\n",
    "split = int(test_portion * training_size)\n",
    "\n",
    "test_sequences = padded[0:split]\n",
    "training_sequences = padded[split:training_size]\n",
    "test_labels = labels[0:split]\n",
    "training_labels = labels[split:training_size]"
   ]
  },
  {
   "cell_type": "code",
   "execution_count": 6,
   "metadata": {
    "colab": {
     "base_uri": "https://localhost:8080/",
     "height": 55
    },
    "colab_type": "code",
    "id": "gIrtRem1En3N",
    "outputId": "49d582ae-bbdb-408f-df21-e54814618539"
   },
   "outputs": [
    {
     "name": "stdout",
     "output_type": "stream",
     "text": [
      "138041\n",
      "1\n"
     ]
    }
   ],
   "source": [
    "print(vocab_size)\n",
    "print(word_index['i'])\n",
    "# Expected Output\n",
    "# 138858\n",
    "# 1"
   ]
  },
  {
   "cell_type": "code",
   "execution_count": 7,
   "metadata": {
    "colab": {
     "base_uri": "https://localhost:8080/",
     "height": 225
    },
    "colab_type": "code",
    "id": "C1zdgJkusRh0",
    "outputId": "bb3a43e3-327f-480e-cc6f-dc6a2e965eac"
   },
   "outputs": [
    {
     "name": "stdout",
     "output_type": "stream",
     "text": [
      "--2019-08-10 01:59:02--  https://storage.googleapis.com/laurencemoroney-blog.appspot.com/glove.6B.100d.txt\n",
      "Resolving storage.googleapis.com (storage.googleapis.com)... 74.125.141.128, 2607:f8b0:400c:c06::80\n",
      "Connecting to storage.googleapis.com (storage.googleapis.com)|74.125.141.128|:443... connected.\n",
      "HTTP request sent, awaiting response... 200 OK\n",
      "Length: 347116733 (331M) [text/plain]\n",
      "Saving to: ‘/tmp/glove.6B.100d.txt’\n",
      "\n",
      "/tmp/glove.6B.100d. 100%[===================>] 331.04M  80.6MB/s    in 4.1s    \n",
      "\n",
      "2019-08-10 01:59:06 (80.6 MB/s) - ‘/tmp/glove.6B.100d.txt’ saved [347116733/347116733]\n",
      "\n"
     ]
    }
   ],
   "source": [
    "# Note this is the 100 dimension version of GloVe from Stanford\n",
    "# I unzipped and hosted it on my site to make this notebook easier\n",
    "!wget --no-check-certificate \\\n",
    "    https://storage.googleapis.com/laurencemoroney-blog.appspot.com/glove.6B.100d.txt \\\n",
    "    -O /tmp/glove.6B.100d.txt\n",
    "embeddings_index = {};\n",
    "with open('/tmp/glove.6B.100d.txt') as f:\n",
    "    for line in f:\n",
    "        values = line.split();\n",
    "        word = values[0];\n",
    "        coefs = np.asarray(values[1:], dtype='float32');\n",
    "        embeddings_index[word] = coefs;\n",
    "\n",
    "embeddings_matrix = np.zeros((vocab_size+1, embedding_dim));\n",
    "for word, i in word_index.items():\n",
    "    embedding_vector = embeddings_index.get(word);\n",
    "    if embedding_vector is not None:\n",
    "        embeddings_matrix[i] = embedding_vector;"
   ]
  },
  {
   "cell_type": "code",
   "execution_count": 8,
   "metadata": {
    "colab": {
     "base_uri": "https://localhost:8080/",
     "height": 36
    },
    "colab_type": "code",
    "id": "71NLk_lpFLNt",
    "outputId": "abcf5106-45f3-4d42-8cbb-410f5e7d86c0"
   },
   "outputs": [
    {
     "name": "stdout",
     "output_type": "stream",
     "text": [
      "138042\n"
     ]
    }
   ],
   "source": [
    "print(len(embeddings_matrix))\n",
    "# Expected Output\n",
    "# 138859"
   ]
  },
  {
   "cell_type": "code",
   "execution_count": 9,
   "metadata": {
    "colab": {
     "base_uri": "https://localhost:8080/",
     "height": 1000
    },
    "colab_type": "code",
    "id": "iKKvbuEBOGFz",
    "outputId": "c42d121e-8006-4d17-a900-6894d0aadbf3"
   },
   "outputs": [
    {
     "name": "stderr",
     "output_type": "stream",
     "text": [
      "WARNING: Logging before flag parsing goes to stderr.\n",
      "W0810 01:59:16.568253 139652098566016 deprecation.py:506] From /usr/local/lib/python3.6/dist-packages/tensorflow/python/keras/initializers.py:119: calling RandomUniform.__init__ (from tensorflow.python.ops.init_ops) with dtype is deprecated and will be removed in a future version.\n",
      "Instructions for updating:\n",
      "Call initializer instance with the dtype argument instead of passing it to the constructor\n",
      "W0810 01:59:16.572036 139652098566016 deprecation.py:506] From /usr/local/lib/python3.6/dist-packages/tensorflow/python/ops/init_ops.py:1251: calling VarianceScaling.__init__ (from tensorflow.python.ops.init_ops) with dtype is deprecated and will be removed in a future version.\n",
      "Instructions for updating:\n",
      "Call initializer instance with the dtype argument instead of passing it to the constructor\n",
      "W0810 01:59:19.723261 139652098566016 deprecation.py:323] From /usr/local/lib/python3.6/dist-packages/tensorflow/python/ops/nn_impl.py:180: add_dispatch_support.<locals>.wrapper (from tensorflow.python.ops.array_ops) is deprecated and will be removed in a future version.\n",
      "Instructions for updating:\n",
      "Use tf.where in 2.0, which has the same broadcast rule as np.where\n"
     ]
    },
    {
     "name": "stdout",
     "output_type": "stream",
     "text": [
      "Model: \"sequential\"\n",
      "_________________________________________________________________\n",
      "Layer (type)                 Output Shape              Param #   \n",
      "=================================================================\n",
      "embedding (Embedding)        (None, 16, 100)           13804200  \n",
      "_________________________________________________________________\n",
      "dropout (Dropout)            (None, 16, 100)           0         \n",
      "_________________________________________________________________\n",
      "conv1d (Conv1D)              (None, 12, 64)            32064     \n",
      "_________________________________________________________________\n",
      "max_pooling1d (MaxPooling1D) (None, 3, 64)             0         \n",
      "_________________________________________________________________\n",
      "lstm (LSTM)                  (None, 64)                33024     \n",
      "_________________________________________________________________\n",
      "dense (Dense)                (None, 1)                 65        \n",
      "=================================================================\n",
      "Total params: 13,869,353\n",
      "Trainable params: 65,153\n",
      "Non-trainable params: 13,804,200\n",
      "_________________________________________________________________\n",
      "Train on 144000 samples, validate on 16000 samples\n",
      "Epoch 1/50\n",
      "144000/144000 - 40s - loss: 0.5681 - acc: 0.6977 - val_loss: 0.5213 - val_acc: 0.7356\n",
      "Epoch 2/50\n",
      "144000/144000 - 37s - loss: 0.5288 - acc: 0.7304 - val_loss: 0.5118 - val_acc: 0.7409\n",
      "Epoch 3/50\n",
      "144000/144000 - 36s - loss: 0.5119 - acc: 0.7433 - val_loss: 0.4979 - val_acc: 0.7538\n",
      "Epoch 4/50\n",
      "144000/144000 - 36s - loss: 0.5000 - acc: 0.7513 - val_loss: 0.4953 - val_acc: 0.7546\n",
      "Epoch 5/50\n",
      "144000/144000 - 37s - loss: 0.4899 - acc: 0.7578 - val_loss: 0.4974 - val_acc: 0.7553\n",
      "Epoch 6/50\n",
      "144000/144000 - 36s - loss: 0.4835 - acc: 0.7618 - val_loss: 0.4894 - val_acc: 0.7607\n",
      "Epoch 7/50\n",
      "144000/144000 - 36s - loss: 0.4771 - acc: 0.7662 - val_loss: 0.5033 - val_acc: 0.7494\n",
      "Epoch 8/50\n",
      "144000/144000 - 36s - loss: 0.4728 - acc: 0.7693 - val_loss: 0.4952 - val_acc: 0.7579\n",
      "Epoch 9/50\n",
      "144000/144000 - 36s - loss: 0.4697 - acc: 0.7714 - val_loss: 0.5068 - val_acc: 0.7493\n",
      "Epoch 10/50\n",
      "144000/144000 - 36s - loss: 0.4643 - acc: 0.7747 - val_loss: 0.4961 - val_acc: 0.7596\n",
      "Epoch 11/50\n",
      "144000/144000 - 36s - loss: 0.4616 - acc: 0.7762 - val_loss: 0.4977 - val_acc: 0.7559\n",
      "Epoch 12/50\n",
      "144000/144000 - 36s - loss: 0.4586 - acc: 0.7771 - val_loss: 0.4972 - val_acc: 0.7580\n",
      "Epoch 13/50\n",
      "144000/144000 - 36s - loss: 0.4566 - acc: 0.7788 - val_loss: 0.4939 - val_acc: 0.7563\n",
      "Epoch 14/50\n",
      "144000/144000 - 36s - loss: 0.4522 - acc: 0.7814 - val_loss: 0.5029 - val_acc: 0.7549\n",
      "Epoch 15/50\n",
      "144000/144000 - 36s - loss: 0.4504 - acc: 0.7822 - val_loss: 0.5012 - val_acc: 0.7549\n",
      "Epoch 16/50\n",
      "144000/144000 - 36s - loss: 0.4489 - acc: 0.7829 - val_loss: 0.4955 - val_acc: 0.7556\n",
      "Epoch 17/50\n",
      "144000/144000 - 36s - loss: 0.4478 - acc: 0.7851 - val_loss: 0.4992 - val_acc: 0.7574\n",
      "Epoch 18/50\n",
      "144000/144000 - 36s - loss: 0.4456 - acc: 0.7854 - val_loss: 0.5019 - val_acc: 0.7572\n",
      "Epoch 19/50\n",
      "144000/144000 - 36s - loss: 0.4450 - acc: 0.7863 - val_loss: 0.5027 - val_acc: 0.7529\n",
      "Epoch 20/50\n",
      "144000/144000 - 36s - loss: 0.4429 - acc: 0.7867 - val_loss: 0.5068 - val_acc: 0.7526\n",
      "Epoch 21/50\n",
      "144000/144000 - 36s - loss: 0.4422 - acc: 0.7869 - val_loss: 0.5084 - val_acc: 0.7572\n",
      "Epoch 22/50\n",
      "144000/144000 - 36s - loss: 0.4411 - acc: 0.7877 - val_loss: 0.5166 - val_acc: 0.7475\n",
      "Epoch 23/50\n",
      "144000/144000 - 36s - loss: 0.4404 - acc: 0.7877 - val_loss: 0.5131 - val_acc: 0.7546\n",
      "Epoch 24/50\n",
      "144000/144000 - 36s - loss: 0.4412 - acc: 0.7896 - val_loss: 0.5057 - val_acc: 0.7567\n",
      "Epoch 25/50\n",
      "144000/144000 - 36s - loss: 0.4387 - acc: 0.7893 - val_loss: 0.5089 - val_acc: 0.7546\n",
      "Epoch 26/50\n",
      "144000/144000 - 36s - loss: 0.4387 - acc: 0.7889 - val_loss: 0.5119 - val_acc: 0.7514\n",
      "Epoch 27/50\n",
      "144000/144000 - 36s - loss: 0.4366 - acc: 0.7907 - val_loss: 0.5131 - val_acc: 0.7558\n",
      "Epoch 28/50\n",
      "144000/144000 - 36s - loss: 0.4356 - acc: 0.7916 - val_loss: 0.5112 - val_acc: 0.7561\n",
      "Epoch 29/50\n",
      "144000/144000 - 36s - loss: 0.4337 - acc: 0.7930 - val_loss: 0.5131 - val_acc: 0.7501\n",
      "Epoch 30/50\n",
      "144000/144000 - 36s - loss: 0.4361 - acc: 0.7913 - val_loss: 0.5075 - val_acc: 0.7544\n",
      "Epoch 31/50\n",
      "144000/144000 - 37s - loss: 0.4356 - acc: 0.7922 - val_loss: 0.5115 - val_acc: 0.7541\n",
      "Epoch 32/50\n",
      "144000/144000 - 36s - loss: 0.4332 - acc: 0.7929 - val_loss: 0.5082 - val_acc: 0.7533\n",
      "Epoch 33/50\n",
      "144000/144000 - 36s - loss: 0.4338 - acc: 0.7933 - val_loss: 0.5111 - val_acc: 0.7509\n",
      "Epoch 34/50\n",
      "144000/144000 - 36s - loss: 0.4315 - acc: 0.7939 - val_loss: 0.5094 - val_acc: 0.7529\n",
      "Epoch 35/50\n",
      "144000/144000 - 36s - loss: 0.4328 - acc: 0.7940 - val_loss: 0.5085 - val_acc: 0.7521\n",
      "Epoch 36/50\n",
      "144000/144000 - 36s - loss: 0.4311 - acc: 0.7942 - val_loss: 0.5123 - val_acc: 0.7538\n",
      "Epoch 37/50\n",
      "144000/144000 - 36s - loss: 0.4314 - acc: 0.7943 - val_loss: 0.5080 - val_acc: 0.7536\n",
      "Epoch 38/50\n",
      "144000/144000 - 36s - loss: 0.4307 - acc: 0.7958 - val_loss: 0.5145 - val_acc: 0.7511\n",
      "Epoch 39/50\n",
      "144000/144000 - 36s - loss: 0.4303 - acc: 0.7946 - val_loss: 0.5135 - val_acc: 0.7542\n",
      "Epoch 40/50\n",
      "144000/144000 - 36s - loss: 0.4312 - acc: 0.7943 - val_loss: 0.5114 - val_acc: 0.7573\n",
      "Epoch 41/50\n",
      "144000/144000 - 36s - loss: 0.4314 - acc: 0.7948 - val_loss: 0.5134 - val_acc: 0.7556\n",
      "Epoch 42/50\n",
      "144000/144000 - 36s - loss: 0.4290 - acc: 0.7958 - val_loss: 0.5096 - val_acc: 0.7526\n",
      "Epoch 43/50\n",
      "144000/144000 - 36s - loss: 0.4301 - acc: 0.7952 - val_loss: 0.5153 - val_acc: 0.7519\n",
      "Epoch 44/50\n",
      "144000/144000 - 36s - loss: 0.4299 - acc: 0.7952 - val_loss: 0.5145 - val_acc: 0.7541\n",
      "Epoch 45/50\n",
      "144000/144000 - 36s - loss: 0.4298 - acc: 0.7965 - val_loss: 0.5116 - val_acc: 0.7544\n",
      "Epoch 46/50\n",
      "144000/144000 - 36s - loss: 0.4289 - acc: 0.7955 - val_loss: 0.5149 - val_acc: 0.7537\n",
      "Epoch 47/50\n",
      "144000/144000 - 36s - loss: 0.4283 - acc: 0.7956 - val_loss: 0.5176 - val_acc: 0.7532\n",
      "Epoch 48/50\n",
      "144000/144000 - 36s - loss: 0.4290 - acc: 0.7944 - val_loss: 0.5124 - val_acc: 0.7555\n",
      "Epoch 49/50\n",
      "144000/144000 - 36s - loss: 0.4289 - acc: 0.7961 - val_loss: 0.5206 - val_acc: 0.7516\n",
      "Epoch 50/50\n",
      "144000/144000 - 35s - loss: 0.4267 - acc: 0.7975 - val_loss: 0.5113 - val_acc: 0.7542\n",
      "Training Complete\n"
     ]
    }
   ],
   "source": [
    "model = tf.keras.Sequential([\n",
    "    tf.keras.layers.Embedding(vocab_size+1, embedding_dim, input_length=max_length, weights=[embeddings_matrix], trainable=False),\n",
    "    tf.keras.layers.Dropout(0.2),\n",
    "    tf.keras.layers.Conv1D(64, 5, activation='relu'),\n",
    "    tf.keras.layers.MaxPooling1D(pool_size=4),\n",
    "    tf.keras.layers.LSTM(64),\n",
    "    tf.keras.layers.Dense(1, activation='sigmoid')\n",
    "])\n",
    "model.compile(loss='binary_crossentropy',optimizer='adam',metrics=['accuracy'])\n",
    "model.summary()\n",
    "\n",
    "num_epochs = 50\n",
    "history = model.fit(training_sequences, training_labels, epochs=num_epochs, validation_data=(test_sequences, test_labels), verbose=2)\n",
    "\n",
    "print(\"Training Complete\")\n"
   ]
  },
  {
   "cell_type": "code",
   "execution_count": 10,
   "metadata": {
    "colab": {
     "base_uri": "https://localhost:8080/",
     "height": 611
    },
    "colab_type": "code",
    "id": "qxju4ItJKO8F",
    "outputId": "793a0038-ebeb-4f42-e0d2-2d391e4a8660"
   },
   "outputs": [
    {
     "data": {
      "text/plain": [
       "<Figure size 432x288 with 0 Axes>"
      ]
     },
     "execution_count": 10,
     "metadata": {
      "tags": []
     },
     "output_type": "execute_result"
    },
    {
     "data": {
      "image/png": "[encoded data removed]",
      "text/plain": [
       "<Figure size 432x288 with 1 Axes>"
      ]
     },
     "metadata": {
      "tags": []
     },
     "output_type": "display_data"
    },
    {
     "data": {
      "image/png": "[encoded data removed]",
      "text/plain": [
       "<Figure size 432x288 with 1 Axes>"
      ]
     },
     "metadata": {
      "tags": []
     },
     "output_type": "display_data"
    },
    {
     "data": {
      "text/plain": [
       "<Figure size 432x288 with 0 Axes>"
      ]
     },
     "metadata": {
      "tags": []
     },
     "output_type": "display_data"
    }
   ],
   "source": [
    "import matplotlib.image  as mpimg\n",
    "import matplotlib.pyplot as plt\n",
    "\n",
    "#-----------------------------------------------------------\n",
    "# Retrieve a list of list results on training and test data\n",
    "# sets for each training epoch\n",
    "#-----------------------------------------------------------\n",
    "acc=history.history['acc']\n",
    "val_acc=history.history['val_acc']\n",
    "loss=history.history['loss']\n",
    "val_loss=history.history['val_loss']\n",
    "\n",
    "epochs=range(len(acc)) # Get number of epochs\n",
    "\n",
    "#------------------------------------------------\n",
    "# Plot training and validation accuracy per epoch\n",
    "#------------------------------------------------\n",
    "plt.plot(epochs, acc, 'r')\n",
    "plt.plot(epochs, val_acc, 'b')\n",
    "plt.title('Training and validation accuracy')\n",
    "plt.xlabel(\"Epochs\")\n",
    "plt.ylabel(\"Accuracy\")\n",
    "plt.legend([\"Accuracy\", \"Validation Accuracy\"])\n",
    "\n",
    "plt.figure()\n",
    "\n",
    "#------------------------------------------------\n",
    "# Plot training and validation loss per epoch\n",
    "#------------------------------------------------\n",
    "plt.plot(epochs, loss, 'r')\n",
    "plt.plot(epochs, val_loss, 'b')\n",
    "plt.title('Training and validation loss')\n",
    "plt.xlabel(\"Epochs\")\n",
    "plt.ylabel(\"Loss\")\n",
    "plt.legend([\"Loss\", \"Validation Loss\"])\n",
    "\n",
    "plt.figure()\n",
    "\n",
    "\n",
    "# Expected Output\n",
    "# A chart where the validation loss does not increase sharply!"
   ]
  }
 ],
 "metadata": {
  "accelerator": "GPU",
  "colab": {
   "name": "NLP Course - Week 3 Exercise Answer.ipynb",
   "provenance": [],
   "version": "0.3.2"
  },
  "kernelspec": {
   "display_name": "Python 3",
   "language": "python",
   "name": "python3"
  },
  "language_info": {
   "codemirror_mode": {
    "name": "ipython",
    "version": 3
   },
   "file_extension": ".py",
   "mimetype": "text/x-python",
   "name": "python",
   "nbconvert_exporter": "python",
   "pygments_lexer": "ipython3",
   "version": "3.7.3"
  }
 },
 "nbformat": 4,
 "nbformat_minor": 1
}
