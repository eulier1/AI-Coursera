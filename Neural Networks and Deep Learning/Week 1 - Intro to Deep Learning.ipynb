{
 "cells": [
  {
   "cell_type": "markdown",
   "metadata": {},
   "source": [
    "# Neural Network & Deep Learning"
   ]
  },
  {
   "cell_type": "markdown",
   "metadata": {},
   "source": [
    "A neural network is a **function** that try to **predict** the relationships between inputs (data)."
   ]
  },
  {
   "cell_type": "markdown",
   "metadata": {},
   "source": [
    "![neuron](assets/Neuron.png)"
   ]
  },
  {
   "cell_type": "markdown",
   "metadata": {},
   "source": [
    "Inputs are connected to a hidden layer.\n",
    "Every input layer feature is interconnected with every hidden layer feature"
   ]
  },
  {
   "cell_type": "markdown",
   "metadata": {},
   "source": [
    "![input layer](assets/Inputlayer.png)"
   ]
  },
  {
   "cell_type": "markdown",
   "metadata": {},
   "source": [
    "## Supervised Learning"
   ]
  },
  {
   "cell_type": "markdown",
   "metadata": {},
   "source": [
    "Supervised Learning is one kind of Machine Learning, and is one that has created a great economical value."
   ]
  },
  {
   "cell_type": "markdown",
   "metadata": {},
   "source": [
    "![deep learning applied](assets/Applieddeeplearning.png)"
   ]
  },
  {
   "cell_type": "markdown",
   "metadata": {},
   "source": [
    "The neural arquitectures that boost the industry by the applied field are\n",
    "\n",
    "    - Standard Neural Networks ( e.g. online ads )\n",
    "    - Convolutional Neural Networks ( e.g. image/face recognition )\n",
    "    - Recurrent Neural Networks ( e.g. Alexa or for text & speech Recognition )"
   ]
  },
  {
   "cell_type": "markdown",
   "metadata": {},
   "source": [
    "![Neural Architectures](assets/Neuralarchitectures.png)"
   ]
  },
  {
   "cell_type": "markdown",
   "metadata": {},
   "source": [
    "## Why deep learning is taking off?"
   ]
  },
  {
   "cell_type": "markdown",
   "metadata": {},
   "source": [
    "- We have access to a lot more computational power\n",
    "- We have access to a lot more data\n",
    "- Deep Learning has resulted in significant improvements in importants applications such as online advertising, speech and image recognition."
   ]
  },
  {
   "cell_type": "markdown",
   "metadata": {},
   "source": [
    "![taking off](assets/Takingoff.png)"
   ]
  },
  {
   "cell_type": "markdown",
   "metadata": {},
   "source": [
    " Iterating over different ML ideas are now more feasible than ever due\n",
    "- Being able to try out ideas quickly allows deep learning engineers to iterate more quickly\n",
    "- Faster computation can help speed up how long a team takes to iterate to a good idea. \n",
    "- Recent progress in deep learning algorithms (from sigmoid function to Relu) has allowed us to train good models faster (even without changing the CPU/GPU hardware)."
   ]
  },
  {
   "cell_type": "markdown",
   "metadata": {},
   "source": [
    "![cicle](assets/circle.png)"
   ]
  },
  {
   "cell_type": "code",
   "execution_count": null,
   "metadata": {},
   "outputs": [],
   "source": []
  }
 ],
 "metadata": {
  "kernelspec": {
   "display_name": "Python 3",
   "language": "python",
   "name": "python3"
  },
  "language_info": {
   "codemirror_mode": {
    "name": "ipython",
    "version": 3
   },
   "file_extension": ".py",
   "mimetype": "text/x-python",
   "name": "python",
   "nbconvert_exporter": "python",
   "pygments_lexer": "ipython3",
   "version": "3.7.3"
  }
 },
 "nbformat": 4,
 "nbformat_minor": 2
}
