{
 "cells": [
  {
   "cell_type": "markdown",
   "metadata": {},
   "source": [
    "# Shallow Neural Network"
   ]
  },
  {
   "cell_type": "markdown",
   "metadata": {},
   "source": [
    "![Neural Network Representation](assets/NeuralNetworkRepresentation.png)"
   ]
  },
  {
   "cell_type": "markdown",
   "metadata": {},
   "source": [
    "Key concepts is\n",
    "\n",
    "- **Input Layer**\n",
    "- **Hidden Layer** ( Due in the traning, the actual values are not seeing it)\n",
    "- **Output Layer** ( Is responsible to generate the predictions )\n",
    "\n",
    "in many research papers, the image above **represent** a neural network of **2 layers** ( the **hidden** and the **output** )"
   ]
  },
  {
   "cell_type": "markdown",
   "metadata": {},
   "source": [
    "## Computing A Neural Network's Output\n",
    "\n",
    "![Output Neural Network](assets/OutputsNeuralNetwork.png)"
   ]
  },
  {
   "cell_type": "markdown",
   "metadata": {},
   "source": [
    "So each neuron (circle in the hidden layer) actually performs **two** steps of computations\n",
    "- Linear regression (on the **left**)\n",
    "- Sigmoid function (or activation function, on the **right**)"
   ]
  },
  {
   "cell_type": "markdown",
   "metadata": {},
   "source": [
    "![Compute Neural Networks Output](assets/OutputsNeuralNetwork2.png)"
   ]
  },
  {
   "cell_type": "markdown",
   "metadata": {},
   "source": [
    "Like many things in maths, this looks like a spaghetti with pickles, soy sauce, strawberry and mustard. Weird but not that much.\n",
    "\n",
    "Remember that we want to compute Neural Network Output. So in order to do that we need to calculate\n",
    "\n",
    "- Linear regression ( which in the image above is **z[1]**, [1] indicate the layer you're calculating)\n",
    "- Activation function ( **a[1]** or sigmoid function )"
   ]
  },
  {
   "cell_type": "markdown",
   "metadata": {},
   "source": [
    "![Compute Neural Networks Output](assets/OutputsNeuralNetwork3.png)"
   ]
  },
  {
   "cell_type": "markdown",
   "metadata": {},
   "source": [
    "So, in order to compute the output in this neural network you'll need only the right 4 formulas\n",
    "\n",
    "- Hidden layer ( z[1] & a[1] )\n",
    "- Output layer ( z[2] & a[2] )\n",
    "\n",
    "One things to comes in our mind is using a for loop, but they're very inefficients, so let's vectorize it."
   ]
  },
  {
   "cell_type": "markdown",
   "metadata": {},
   "source": [
    "# Vectorization Across Multiple Examples"
   ]
  },
  {
   "cell_type": "code",
   "execution_count": null,
   "metadata": {},
   "outputs": [],
   "source": []
  }
 ],
 "metadata": {
  "kernelspec": {
   "display_name": "Python 3",
   "language": "python",
   "name": "python3"
  },
  "language_info": {
   "codemirror_mode": {
    "name": "ipython",
    "version": 3
   },
   "file_extension": ".py",
   "mimetype": "text/x-python",
   "name": "python",
   "nbconvert_exporter": "python",
   "pygments_lexer": "ipython3",
   "version": "3.7.3"
  }
 },
 "nbformat": 4,
 "nbformat_minor": 2
}
